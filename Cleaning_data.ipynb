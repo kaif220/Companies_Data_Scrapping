{
 "cells": [
  {
   "cell_type": "code",
   "execution_count": 2,
   "metadata": {},
   "outputs": [],
   "source": [
    "import pandas as pd\n",
    "\n",
    "# Load the dataset\n",
    "file_path = 'path_to_your_file.csv'\n",
    "df = pd.read_csv('companies_data.csv')\n",
    "\n",
    "# Drop the 'Email' column as it contains all missing values\n",
    "df_cleaned_strict = df.drop(columns=['Email'])\n",
    "\n",
    "# Drop rows with any missing values in 'Website URL', 'Contact Number', 'Location', or 'Description'\n",
    "df_cleaned_strict = df_cleaned_strict.dropna(subset=['Website URL', 'Contact Number', 'Location', 'Description'])\n",
    "\n",
    "# Save the strictly cleaned dataset to a new CSV file\n",
    "df_cleaned_strict.to_csv('path_to_cleaned_file.csv', index=False)\n"
   ]
  },
  {
   "cell_type": "code",
   "execution_count": null,
   "metadata": {},
   "outputs": [],
   "source": []
  }
 ],
 "metadata": {
  "kernelspec": {
   "display_name": "Python 3",
   "language": "python",
   "name": "python3"
  },
  "language_info": {
   "codemirror_mode": {
    "name": "ipython",
    "version": 3
   },
   "file_extension": ".py",
   "mimetype": "text/x-python",
   "name": "python",
   "nbconvert_exporter": "python",
   "pygments_lexer": "ipython3",
   "version": "3.10.5"
  }
 },
 "nbformat": 4,
 "nbformat_minor": 2
}
