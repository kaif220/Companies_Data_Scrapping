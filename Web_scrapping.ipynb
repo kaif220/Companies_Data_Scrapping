{
 "cells": [
  {
   "cell_type": "code",
   "execution_count": 1,
   "metadata": {},
   "outputs": [
    {
     "name": "stdout",
     "output_type": "stream",
     "text": [
      "Data scraping completed and saved to company_data.csv\n"
     ]
    }
   ],
   "source": [
    "import requests\n",
    "from bs4 import BeautifulSoup\n",
    "import pandas as pd\n",
    "import time\n",
    "\n",
    "# Define the URL for the industry and location search\n",
    "url = \"https://www.yellowpages.com/search?search_terms=IT+Services&geo_location_terms=California\"  # Adjust as needed\n",
    "\n",
    "# Define headers (optional, but can help avoid blocking)\n",
    "headers = {\n",
    "    'User-Agent': 'Mozilla/5.0 (Windows NT 10.0; Win64; x64) AppleWebKit/537.36 (KHTML, like Gecko) Chrome/91.0.4472.124 Safari/537.36'\n",
    "}\n",
    "\n",
    "# List to store the scraped data\n",
    "data = []\n",
    "\n",
    "# Loop through pages (usually by changing URL parameters)\n",
    "for page in range(1, 4):  # Assuming 2-3 pages of results\n",
    "    page_url = f\"{url}&page={page}\"\n",
    "    response = requests.get(page_url, headers=headers)\n",
    "    soup = BeautifulSoup(response.text, 'html.parser')\n",
    "    \n",
    "    # Find all the result containers on the page\n",
    "    results = soup.find_all('div', class_='result')\n",
    "\n",
    "    for result in results:\n",
    "        try:\n",
    "            company_name = result.find('a', class_='business-name').text.strip()\n",
    "            website_url = result.find('a', class_='track-visit-website')['href'] if result.find('a', class_='track-visit-website') else None\n",
    "            contact_number = result.find('div', class_='phones phone primary').text.strip() if result.find('div', class_='phones phone primary') else None\n",
    "            location = result.find('div', class_='adr').text.strip() if result.find('div', class_='adr') else None\n",
    "            industry = \"IT Services\"  # Static since we're searching within an industry\n",
    "            description = result.find('p', class_='body').text.strip() if result.find('p', class_='body') else None\n",
    "            email = None  # Emails may not be present; consider adding a scraper for it if visible in the listing\n",
    "\n",
    "            # Append data to the list\n",
    "            data.append({\n",
    "                \"Company Name\": company_name,\n",
    "                \"Website URL\": website_url,\n",
    "                \"Contact Number\": contact_number,\n",
    "                \"Location\": location,\n",
    "                \"Industry\": industry,\n",
    "                \"Description\": description,\n",
    "                \"Email\": email\n",
    "            })\n",
    "        except Exception as e:\n",
    "            print(f\"Error extracting data: {e}\")\n",
    "    \n",
    "    # Delay to avoid blocking\n",
    "    time.sleep(2)  # 2-second delay\n",
    "\n",
    "# Save to CSV\n",
    "df = pd.DataFrame(data)\n",
    "df.to_csv(\"C:/Users/KAIF/Downloads/chromedriver_win32/companies_data.csv\", index=False)\n",
    "\n",
    "print(\"Data scraping completed and saved to company_data.csv\")\n"
   ]
  },
  {
   "cell_type": "code",
   "execution_count": null,
   "metadata": {},
   "outputs": [],
   "source": []
  }
 ],
 "metadata": {
  "kernelspec": {
   "display_name": "Python 3",
   "language": "python",
   "name": "python3"
  },
  "language_info": {
   "codemirror_mode": {
    "name": "ipython",
    "version": 3
   },
   "file_extension": ".py",
   "mimetype": "text/x-python",
   "name": "python",
   "nbconvert_exporter": "python",
   "pygments_lexer": "ipython3",
   "version": "3.10.5"
  }
 },
 "nbformat": 4,
 "nbformat_minor": 2
}
